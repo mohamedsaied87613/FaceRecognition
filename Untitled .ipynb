{
 "cells": [
  {
   "cell_type": "code",
   "execution_count": null,
   "id": "ab93050f",
   "metadata": {},
   "outputs": [],
   "source": [
    "import os\n",
    "import numpy\n",
    "from PIL import Image"
   ]
  },
  {
   "cell_type": "code",
   "execution_count": null,
   "id": "c990ad89",
   "metadata": {},
   "outputs": [],
   "source": [
    "data_matrix = numpy.ndarray(shape=(400, 10304), dtype=numpy.dtype('u1'))  # 8-bit unsigned int\n",
    "label_vector = numpy.empty(shape=(400,1), dtype=numpy.dtype('u1'))\n",
    "\n",
    "i = 0\n",
    "for dirname, _, filenames in os.walk('dataset'):\n",
    "    for filename in filenames:\n",
    "        image = Image.open(os.path.join(dirname, filename))\n",
    "        numpy_image = numpy.asarray(image).flatten()\n",
    "        data_matrix[i] = numpy_image.copy()\n",
    "        label_vector[i] = int(dirname[dirname.rindex('\\\\')+ 2:])\n",
    "        i += 1\n",
    "\n",
    "print(data_matrix)\n",
    "print(data_matrix.shape)"
   ]
  },
  {
   "cell_type": "code",
   "execution_count": null,
   "id": "eeac1f23",
   "metadata": {},
   "outputs": [],
   "source": [
    "# Odd rows for training\n",
    "train_data = data_matrix[::2,:]\n",
    "y_train = label_vector[::2,:].ravel()\n",
    "\n",
    "# Even rows for testing\n",
    "test_data = data_matrix[1::2,:]\n",
    "y_test = label_vector[1::2,:].ravel()\n",
    "\n",
    "print(test_data)\n",
    "print(test_data.shape)\n",
    "print(\"\\n\")\n",
    "print(train_data)\n",
    "print(train_data.shape)"
   ]
  },
  {
   "cell_type": "code",
   "execution_count": 4,
   "id": "4011d7d6",
   "metadata": {},
   "outputs": [],
   "source": [
    "df=pd.DataFrame(train_data)\n",
    "df['class']=y_train"
   ]
  },
  {
   "cell_type": "code",
   "execution_count": 5,
   "id": "c19ec423",
   "metadata": {},
   "outputs": [],
   "source": [
    "#classes --->classes matrix\n",
    "#mean_mat ---> mean for each class matrix\n",
    "#samples_c ---> nu of samples per class\n",
    "classes=np.sort(df['class'].unique())\n",
    "mean_mat=df.groupby('class').mean().values\n",
    "samples_c=df.groupby('class').size().values"
   ]
  },
  {
   "cell_type": "code",
   "execution_count": 19,
   "id": "376f9463",
   "metadata": {},
   "outputs": [
    {
     "data": {
      "text/plain": [
       "array([[1113.5569  , 1127.5723  , 1403.37535 , ...,  406.7803  ,\n",
       "         554.44255 ,  340.87455 ],\n",
       "       [1127.5723  , 1141.7641  , 1421.03845 , ...,  411.9001  ,\n",
       "         561.42085 ,  345.16485 ],\n",
       "       [1403.37535 , 1421.03845 , 1768.623025, ...,  512.65045 ,\n",
       "         698.743825,  429.591825],\n",
       "       ...,\n",
       "       [ 406.7803  ,  411.9001  ,  512.65045 , ...,  148.5961  ,\n",
       "         202.53685 ,  124.52085 ],\n",
       "       [ 554.44255 ,  561.42085 ,  698.743825, ...,  202.53685 ,\n",
       "         276.058225,  169.722225],\n",
       "       [ 340.87455 ,  345.16485 ,  429.591825, ...,  124.52085 ,\n",
       "         169.722225,  104.346225]])"
      ]
     },
     "execution_count": 19,
     "metadata": {},
     "output_type": "execute_result"
    }
   ],
   "source": [
    "#between classes matrix\n",
    "#nk (nu of samples for class)\n",
    "#uk (mean of class)\n",
    "#u  (mean of all classes)\n",
    "\n",
    "u=mean_mat.mean(0)\n",
    "b=np.zeros((10304,10304))\n",
    "for i in range (1):\n",
    "    nk= samples_c[i]\n",
    "    uk= mean_mat[i]\n",
    "    t=np.array([uk-u])\n",
    "    b+=numpy.matmul(t.T,t)\n",
    "#b"
   ]
  },
  {
   "cell_type": "code",
   "execution_count": 21,
   "id": "4f709cdb",
   "metadata": {},
   "outputs": [
    {
     "data": {
      "text/plain": [
       "array([[ 26322. ,  24844.8,  24771.6, ...,   -757.2,  -2197.8,   3702.4],\n",
       "       [ 24844.8,  25913.6,  24942.4, ...,    190.6,   -395.4,   4566. ],\n",
       "       [ 24771.6,  24942.4,  25832.4, ...,   -331.2,    332.4,   6442.8],\n",
       "       ...,\n",
       "       [  -757.2,    190.6,   -331.2, ..., 143575.2,  90017.8,  74673.8],\n",
       "       [ -2197.8,   -395.4,    332.4, ...,  90017.8,  96311.6,  82691. ],\n",
       "       [  3702.4,   4566. ,   6442.8, ...,  74673.8,  82691. ,  95567.6]])"
      ]
     },
     "execution_count": 21,
     "metadata": {},
     "output_type": "execute_result"
    }
   ],
   "source": [
    "#within class matrix\n",
    "#class_ss --> class samples\n",
    "#class_m --> class mean\n",
    "w=np.zeros((10304,10304))\n",
    "for i in range (classes.size):\n",
    "    class_ss=df.loc[df['class'] == i+1].values[:,:-1]\n",
    "    class_m=mean_mat[i]\n",
    "    t=np.subtract(class_ss,class_m)\n",
    "    for j in range (samples_c[i]):\n",
    "        c=np.array([t[j]])\n",
    "        w+=  numpy.matmul(c.T , c) \n",
    "#w"
   ]
  },
  {
   "cell_type": "code",
   "execution_count": 22,
   "id": "828c878e",
   "metadata": {},
   "outputs": [
    {
     "data": {
      "text/plain": [
       "(10304, 10304)"
      ]
     },
     "execution_count": 22,
     "metadata": {},
     "output_type": "execute_result"
    }
   ],
   "source": [
    "S=np.linalg.inv(w)\n",
    "S.shape"
   ]
  },
  {
   "cell_type": "code",
   "execution_count": 23,
   "id": "dd052bc6",
   "metadata": {},
   "outputs": [
    {
     "data": {
      "text/plain": [
       "(10304, 10304)"
      ]
     },
     "execution_count": 23,
     "metadata": {},
     "output_type": "execute_result"
    }
   ],
   "source": [
    "b.shape"
   ]
  },
  {
   "cell_type": "code",
   "execution_count": null,
   "id": "2064e9cb",
   "metadata": {},
   "outputs": [],
   "source": [
    "eig_vals, eig_vecs = np.linalg.eig(numpy.matmul(S,b))"
   ]
  },
  {
   "cell_type": "code",
   "execution_count": 25,
   "id": "80d8566b",
   "metadata": {},
   "outputs": [],
   "source": [
    "idx = np.argsort(eig_vals)\n",
    "eig_vals = eig_vals[idx]\n",
    "eig_vecs = eig_vecs[:,idx]"
   ]
  },
  {
   "cell_type": "code",
   "execution_count": 27,
   "id": "abcb6fe6",
   "metadata": {},
   "outputs": [
    {
     "data": {
      "text/plain": [
       "(10304, 39)"
      ]
     },
     "execution_count": 27,
     "metadata": {},
     "output_type": "execute_result"
    }
   ],
   "source": [
    "U=eig_vecs[:,:39]\n",
    "U.shape"
   ]
  },
  {
   "cell_type": "code",
   "execution_count": 29,
   "id": "f2f0010e",
   "metadata": {},
   "outputs": [
    {
     "name": "stdout",
     "output_type": "stream",
     "text": [
      "(200, 39)\n",
      "(200, 39)\n"
     ]
    }
   ],
   "source": [
    "X_train = numpy.matmul(train_data,U)\n",
    "X_test = numpy.matmul(test_data,U)\n",
    "\n",
    "print(X_train.shape)\n",
    "print(X_test.shape)"
   ]
  },
  {
   "cell_type": "code",
   "execution_count": 30,
   "id": "74cf0821",
   "metadata": {},
   "outputs": [
    {
     "name": "stdout",
     "output_type": "stream",
     "text": [
      "Accuracy: 0.465\n"
     ]
    }
   ],
   "source": [
    "from sklearn.neighbors import KNeighborsClassifier\n",
    "from sklearn.metrics import  accuracy_score\n",
    "\n",
    "knn = KNeighborsClassifier(n_neighbors=1)\n",
    "\n",
    "knn.fit(X_train, y_train)\n",
    "\n",
    "# Predict on dataset which model has not seen before\n",
    "y_pred = knn.predict(X_test)\n",
    "\n",
    "print(\"Accuracy:\",accuracy_score(y_test, y_pred))"
   ]
  },
  {
   "cell_type": "code",
   "execution_count": null,
   "id": "7b35dd4c",
   "metadata": {},
   "outputs": [],
   "source": []
  }
 ],
 "metadata": {
  "kernelspec": {
   "display_name": "Python 3",
   "language": "python",
   "name": "python3"
  },
  "language_info": {
   "codemirror_mode": {
    "name": "ipython",
    "version": 3
   },
   "file_extension": ".py",
   "mimetype": "text/x-python",
   "name": "python",
   "nbconvert_exporter": "python",
   "pygments_lexer": "ipython3",
   "version": "3.8.8"
  }
 },
 "nbformat": 4,
 "nbformat_minor": 5
}
