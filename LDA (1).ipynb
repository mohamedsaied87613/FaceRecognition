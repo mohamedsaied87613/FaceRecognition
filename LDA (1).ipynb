{
 "cells": [
  {
   "cell_type": "code",
   "execution_count": 236,
   "id": "ab93050f",
   "metadata": {},
   "outputs": [],
   "source": [
    "import os\n",
    "import numpy as np,numpy\n",
    "import pandas as pd\n",
    "from PIL import Image\n",
    "from sklearn.neighbors import KNeighborsClassifier\n",
    "from sklearn.metrics import accuracy_score\n",
    "import matplotlib.pyplot as plt"
   ]
  },
  {
   "cell_type": "code",
   "execution_count": 237,
   "id": "599fdf42",
   "metadata": {},
   "outputs": [],
   "source": [
    "def LDA(train_data,y_train,test_data,y_test,vectors):\n",
    "    \n",
    "    df = pd.DataFrame(train_data)\n",
    "    df['class'] = y_train\n",
    "    \n",
    "    classes = numpy.sort(df['class'].unique())  #classes matrix\n",
    "    mean_mat = df.groupby('class').mean().values  # mean for each class matrix\n",
    "    samples_c = df.groupby('class').size().values  #nu of samples per class\n",
    "    \n",
    "    #between classes matrix\n",
    "    u = mean_mat.mean(0).reshape(1, train_data.shape[1])         #u  (mean of all classes)\n",
    "    B = numpy.zeros(shape=(train_data.shape[1], train_data.shape[1]))\n",
    "\n",
    "    for i in range(classes.size):\n",
    "        nk = samples_c[i]                                        #nk (nu of samples for class)\n",
    "        uk = mean_mat[i].reshape(1, train_data.shape[1])         #uk (mean of class)\n",
    "        t = uk - u\n",
    "        B += nk * numpy.matmul(t.T, t)\n",
    "    #print(B)\n",
    "    \n",
    "    #within class matrix\n",
    "    S = numpy.zeros(shape=(train_data.shape[1], train_data.shape[1]))\n",
    "\n",
    "    for i in range(classes.size):\n",
    "        class_ss = df.loc[df['class'] == i + 1].values[:, :-1]       #class_ss --> class samples\n",
    "        class_m = mean_mat[i].reshape(1, train_data.shape[1])         #class_m --> class mean\n",
    "        centered_data = numpy.subtract(class_ss, class_m) \n",
    "        s = numpy.matmul(centered_data.T, centered_data)\n",
    "        S = S + s    #print(S)\n",
    "    \n",
    "    #eigen calculations\n",
    "    S_inv = numpy.linalg.inv(S)    #print(S_inv)\n",
    "    eigen_values, eigen_vectors = numpy.linalg.eigh(numpy.matmul(S_inv, B))\n",
    "    \n",
    "    #sort the eigenvalues and eigenvectors in descending order\n",
    "    sorted_index = numpy.argsort(eigen_values)[::-1]\n",
    "    sorted_eigenvalue = eigen_values[sorted_index]\n",
    "    sorted_eigenvectors = eigen_vectors[:, sorted_index]\n",
    "    \n",
    "    U = sorted_eigenvectors[:, 0:vectors]\n",
    "    X_train = numpy.matmul(train_data, U)\n",
    "    X_test = numpy.matmul(test_data, U)\n",
    "\n",
    "    return X_train , X_test"
   ]
  },
  {
   "cell_type": "code",
   "execution_count": 238,
   "id": "6ccdc24f",
   "metadata": {},
   "outputs": [],
   "source": [
    "def plot(k_vals):\n",
    "    acc=[]\n",
    "    for i in range(len(k_vals)):\n",
    "        knn = KNeighborsClassifier(n_neighbors=k_vals[i])\n",
    "        knn.fit(X_train, y_train)\n",
    "        y_pred = knn.predict(X_test)\n",
    "        acc.append(accuracy_score(y_test, y_pred))\n",
    "\n",
    "    plt.plot(k_vals,acc, linestyle = 'dashed')\n",
    "    plt.show()\n",
    "    print(\"Accuracy:\", acc)"
   ]
  },
  {
   "cell_type": "code",
   "execution_count": 239,
   "id": "c990ad89",
   "metadata": {},
   "outputs": [],
   "source": [
    "data_matrix = numpy.ndarray(shape=(400, 10304), dtype=numpy.dtype('u1'))  # 8-bit unsigned int\n",
    "label_vector = numpy.empty(shape=(400, 1), dtype=numpy.dtype('u1'))\n",
    "\n",
    "i = 0\n",
    "for dirname, _, filenames in os.walk('C:\\\\Users\\\\smart\\\\Desktop\\\\FaceRecognition-master\\\\dataset'):\n",
    "    for filename in filenames:\n",
    "        image = Image.open(os.path.join(dirname, filename))\n",
    "        numpy_image = numpy.asarray(image).flatten()\n",
    "        data_matrix[i] = numpy_image.copy()\n",
    "        label_vector[i] = int(dirname[dirname.rindex('\\\\') + 2:])\n",
    "        i += 1\n"
   ]
  },
  {
   "cell_type": "code",
   "execution_count": 225,
   "id": "eeac1f23",
   "metadata": {},
   "outputs": [
    {
     "name": "stdout",
     "output_type": "stream",
     "text": [
      "(200, 10304)\n",
      "(200,)\n",
      "(200, 10304)\n",
      "(200,)\n",
      "<class 'numpy.ndarray'>\n",
      "<class 'numpy.ndarray'>\n",
      "<class 'numpy.ndarray'>\n",
      "<class 'numpy.ndarray'>\n"
     ]
    },
    {
     "data": {
      "text/plain": [
       "1"
      ]
     },
     "execution_count": 225,
     "metadata": {},
     "output_type": "execute_result"
    }
   ],
   "source": [
    "# Odd rows for training\n",
    "train_data = data_matrix[::2, :]\n",
    "y_train = label_vector[::2, :].ravel()\n",
    "# Even rows for testing\n",
    "test_data = data_matrix[1::2, :]\n",
    "y_test = label_vector[1::2, :].ravel()\n",
    "\n",
    "print(train_data.shape)\n",
    "print(y_train.shape)\n",
    "\n",
    "print(test_data.shape)\n",
    "print(y_test.shape)\n",
    "print(type(train_data))\n",
    "print(type(y_train))\n",
    "\n",
    "print(type(test_data))\n",
    "print(type(y_test))"
   ]
  },
  {
   "cell_type": "code",
   "execution_count": 185,
   "id": "e8246def",
   "metadata": {},
   "outputs": [
    {
     "data": {
      "image/png": "[encoded data removed]",
      "text/plain": [
       "<Figure size 432x288 with 1 Axes>"
      ]
     },
     "metadata": {
      "needs_background": "light"
     },
     "output_type": "display_data"
    },
    {
     "name": "stdout",
     "output_type": "stream",
     "text": [
      "Accuracy: [0.95, 0.855, 0.785, 0.775]\n"
     ]
    }
   ],
   "source": [
    "X_train , X_test=LDA(train_data,y_train,test_data,y_test,39)\n",
    "plot([1,3,5,7])"
   ]
  },
  {
   "cell_type": "code",
   "execution_count": 186,
   "id": "af4d51cb",
   "metadata": {},
   "outputs": [],
   "source": [
    "#non faces\n",
    "non_faces = numpy.ndarray(shape=(374, 10304), dtype=numpy.dtype('u1'))  # 8-bit unsigned int\n",
    "i = 0\n",
    "for dirname, _, filenames in os.walk('C:\\\\Users\\\\smart\\\\Desktop\\\\non_faces'):\n",
    "    for filename in filenames:\n",
    "        image = Image.open(os.path.join(dirname, filename))\n",
    "        image = image.resize((92,112))\n",
    "        numpy_image = numpy.asarray(image).flatten()\n",
    "        non_faces[i] = numpy_image.copy()\n",
    "        i += 0 "
   ]
  },
  {
   "cell_type": "code",
   "execution_count": 187,
   "id": "e827a114",
   "metadata": {},
   "outputs": [],
   "source": [
    "df['class']=1\n",
    "df1=pd.DataFrame(non_faces[:200])\n",
    "df1['class']=0\n",
    "df = df.append(df1, ignore_index=True)"
   ]
  },
  {
   "cell_type": "code",
   "execution_count": 199,
   "id": "f639577d",
   "metadata": {},
   "outputs": [
    {
     "name": "stdout",
     "output_type": "stream",
     "text": [
      "(300, 10304)\n",
      "(300,)\n",
      "(300, 10304)\n",
      "(300,)\n"
     ]
    }
   ],
   "source": [
    "# Odd rows for training\n",
    "train_data = df.values[::2, :-1]\n",
    "y_train = df['class'].values[::2].ravel()\n",
    "\n",
    "# Even rows for testing\n",
    "test_data = df.values[1::2, :-1]\n",
    "y_test = df['class'].values[1::2].ravel()\n",
    "\n",
    "print(train_data.shape)\n",
    "print(y_train.shape)\n",
    "\n",
    "print(test_data.shape)\n",
    "print(y_test.shape)\n"
   ]
  },
  {
   "cell_type": "code",
   "execution_count": 189,
   "id": "8c7f9115",
   "metadata": {},
   "outputs": [
    {
     "data": {
      "image/png": "[encoded data removed]",
      "text/plain": [
       "<Figure size 432x288 with 1 Axes>"
      ]
     },
     "metadata": {
      "needs_background": "light"
     },
     "output_type": "display_data"
    },
    {
     "name": "stdout",
     "output_type": "stream",
     "text": [
      "Accuracy: [0.6666666666666666, 0.6666666666666666, 0.6666666666666666, 0.6666666666666666]\n"
     ]
    }
   ],
   "source": [
    "#acc=1 as most of non faces are black (  more than 75% of pgm =0)\n",
    "X_train , X_test=LDA(train_data,y_train,test_data,y_test,1)\n",
    "plot([1,3,5,7])"
   ]
  },
  {
   "cell_type": "code",
   "execution_count": 264,
   "id": "56a0ae12",
   "metadata": {},
   "outputs": [],
   "source": [
    "train_data=np.empty((280,10304))\n",
    "y_train= np.empty((280,1))\n",
    "test_data= np.empty((120,10304))\n",
    "y_test= np.empty((120,1))\n",
    "\n",
    "x=0\n",
    "y=0\n",
    "for i in range(40):\n",
    "    for j in range(7):\n",
    "        train_data[x][:]=data_matrix[(i*10)+j][:]\n",
    "        y_train[x]=label_vector[(i*10)+j][0]\n",
    "        x=x+1\n",
    "    for j in range(3):\n",
    "        test_data[y]=data_matrix[(i*10)+7+j][:]\n",
    "        y_train[y]=label_vector[(i*10)+7+j][0]\n",
    "        y+=1\n",
    "        "
   ]
  },
  {
   "cell_type": "code",
   "execution_count": 265,
   "id": "a5fe15dd",
   "metadata": {},
   "outputs": [
    {
     "name": "stderr",
     "output_type": "stream",
     "text": [
      "C:\\Users\\smart\\anaconda3\\lib\\site-packages\\sklearn\\neighbors\\_classification.py:179: DataConversionWarning: A column-vector y was passed when a 1d array was expected. Please change the shape of y to (n_samples,), for example using ravel().\n",
      "  return self._fit(X, y)\n",
      "C:\\Users\\smart\\anaconda3\\lib\\site-packages\\sklearn\\neighbors\\_classification.py:179: DataConversionWarning: A column-vector y was passed when a 1d array was expected. Please change the shape of y to (n_samples,), for example using ravel().\n",
      "  return self._fit(X, y)\n",
      "C:\\Users\\smart\\anaconda3\\lib\\site-packages\\sklearn\\neighbors\\_classification.py:179: DataConversionWarning: A column-vector y was passed when a 1d array was expected. Please change the shape of y to (n_samples,), for example using ravel().\n",
      "  return self._fit(X, y)\n",
      "C:\\Users\\smart\\anaconda3\\lib\\site-packages\\sklearn\\neighbors\\_classification.py:179: DataConversionWarning: A column-vector y was passed when a 1d array was expected. Please change the shape of y to (n_samples,), for example using ravel().\n",
      "  return self._fit(X, y)\n"
     ]
    },
    {
     "data": {
      "image/png": "[encoded data removed]",
      "text/plain": [
       "<Figure size 432x288 with 1 Axes>"
      ]
     },
     "metadata": {
      "needs_background": "light"
     },
     "output_type": "display_data"
    },
    {
     "name": "stdout",
     "output_type": "stream",
     "text": [
      "Accuracy: [0.6416666666666667, 0.725, 0.8083333333333333, 1.0]\n"
     ]
    }
   ],
   "source": [
    "X_train , X_test=LDA(train_data,y_train,test_data,y_test,39)\n",
    "plot([1,3,5,7])"
   ]
  },
  {
   "cell_type": "code",
   "execution_count": null,
   "id": "5b407498",
   "metadata": {},
   "outputs": [],
   "source": []
  }
 ],
 "metadata": {
  "kernelspec": {
   "display_name": "Python 3",
   "language": "python",
   "name": "python3"
  },
  "language_info": {
   "codemirror_mode": {
    "name": "ipython",
    "version": 3
   },
   "file_extension": ".py",
   "mimetype": "text/x-python",
   "name": "python",
   "nbconvert_exporter": "python",
   "pygments_lexer": "ipython3",
   "version": "3.8.8"
  }
 },
 "nbformat": 4,
 "nbformat_minor": 5
}
