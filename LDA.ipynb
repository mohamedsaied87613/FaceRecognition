{
 "cells": [
  {
   "cell_type": "code",
   "execution_count": 1,
   "id": "ab93050f",
   "metadata": {},
   "outputs": [],
   "source": [
    "import os\n",
    "import numpy as np,numpy\n",
    "import pandas as pd\n",
    "from PIL import Image"
   ]
  },
  {
   "cell_type": "code",
   "execution_count": 2,
   "id": "c990ad89",
   "metadata": {},
   "outputs": [
    {
     "name": "stdout",
     "output_type": "stream",
     "text": [
      "[[ 48  49  45 ...  47  46  46]\n",
      " [ 34  34  33 ...  37  40  33]\n",
      " [ 60  60  62 ...  32  34  34]\n",
      " ...\n",
      " [112 109 116 ...  93  88  92]\n",
      " [111 114 112 ...  88  86  92]\n",
      " [110 112 113 ...  92  87  90]]\n",
      "(400, 10304)\n"
     ]
    }
   ],
   "source": [
    "data_matrix = numpy.ndarray(shape=(400, 10304), dtype=numpy.dtype('u1'))  # 8-bit unsigned int\n",
    "label_vector = numpy.empty(shape=(400, 1), dtype=numpy.dtype('u1'))\n",
    "\n",
    "i = 0\n",
    "for dirname, _, filenames in os.walk('C:\\\\Users\\\\smart\\\\Desktop\\\\FaceRecognition-master\\\\dataset'):\n",
    "    for filename in filenames:\n",
    "        image = Image.open(os.path.join(dirname, filename))\n",
    "        numpy_image = numpy.asarray(image).flatten()\n",
    "        data_matrix[i] = numpy_image.copy()\n",
    "        label_vector[i] = int(dirname[dirname.rindex('\\\\') + 2:])\n",
    "        i += 1\n",
    "\n",
    "print(data_matrix)\n",
    "print(data_matrix.shape)"
   ]
  },
  {
   "cell_type": "code",
   "execution_count": 3,
   "id": "eeac1f23",
   "metadata": {},
   "outputs": [
    {
     "name": "stdout",
     "output_type": "stream",
     "text": [
      "[[ 34  34  33 ...  37  40  33]\n",
      " [ 39  44  53 ...  29  26  29]\n",
      " [ 64  76  80 ...  35  37  39]\n",
      " ...\n",
      " [110 109 111 ...  94  88  90]\n",
      " [112 109 116 ...  93  88  92]\n",
      " [110 112 113 ...  92  87  90]]\n",
      "(200, 10304)\n",
      "\n",
      "\n",
      "[[ 48  49  45 ...  47  46  46]\n",
      " [ 60  60  62 ...  32  34  34]\n",
      " [ 63  53  35 ...  41  10  24]\n",
      " ...\n",
      " [114 110 112 ...  93  89  86]\n",
      " [113 112 111 ...  87  87  89]\n",
      " [111 114 112 ...  88  86  92]]\n",
      "(200, 10304)\n"
     ]
    }
   ],
   "source": [
    "# Odd rows for training\n",
    "train_data = data_matrix[::2, :]\n",
    "y_train = label_vector[::2, :].ravel()\n",
    "\n",
    "# Even rows for testing\n",
    "test_data = data_matrix[1::2, :]\n",
    "y_test = label_vector[1::2, :].ravel()\n",
    "\n",
    "print(test_data)\n",
    "print(test_data.shape)\n",
    "print(\"\\n\")\n",
    "print(train_data)\n",
    "print(train_data.shape)"
   ]
  },
  {
   "cell_type": "code",
   "execution_count": 4,
   "id": "4011d7d6",
   "metadata": {},
   "outputs": [],
   "source": [
    "df = pd.DataFrame(train_data)\n",
    "df['class'] = y_train"
   ]
  },
  {
   "cell_type": "code",
   "execution_count": 5,
   "id": "c19ec423",
   "metadata": {},
   "outputs": [],
   "source": [
    "#classes --->classes matrix\n",
    "#mean_mat ---> mean for each class matrix\n",
    "#samples_c ---> nu of samples per class\n",
    "\n",
    "classes = numpy.sort(df['class'].unique())\n",
    "mean_mat = df.groupby('class').mean().values\n",
    "samples_c = df.groupby('class').size().values"
   ]
  },
  {
   "cell_type": "code",
   "execution_count": 6,
   "id": "376f9463",
   "metadata": {},
   "outputs": [
    {
     "name": "stdout",
     "output_type": "stream",
     "text": [
      "[[231615.82  228816.94  231111.73  ... -41390.46  -19667.31   -7796.11 ]\n",
      " [228816.94  226547.58  228482.91  ... -39573.22  -18219.37   -7079.97 ]\n",
      " [231111.73  228482.91  231351.995 ... -39955.09  -18238.365  -7093.165]\n",
      " ...\n",
      " [-41390.46  -39573.22  -39955.09  ... 335064.38  304869.63  288210.43 ]\n",
      " [-19667.31  -18219.37  -18238.365 ... 304869.63  292480.555 277844.955]\n",
      " [ -7796.11   -7079.97   -7093.165 ... 288210.43  277844.955 272640.155]]\n"
     ]
    }
   ],
   "source": [
    "#between classes matrix\n",
    "#nk (nu of samples for class)\n",
    "#uk (mean of class)\n",
    "#u  (mean of all classes)\n",
    "\n",
    "u = mean_mat.mean(0).reshape(1, train_data.shape[1])\n",
    "\n",
    "B = numpy.zeros(shape=(train_data.shape[1], train_data.shape[1]))\n",
    "\n",
    "for i in range(classes.size):\n",
    "    nk = samples_c[i]\n",
    "    uk = mean_mat[i].reshape(1, train_data.shape[1])\n",
    "    t = uk - u\n",
    "    B += nk * numpy.matmul(t.T, t)\n",
    "\n",
    "print(B)"
   ]
  },
  {
   "cell_type": "code",
   "execution_count": 7,
   "id": "4f709cdb",
   "metadata": {},
   "outputs": [
    {
     "name": "stdout",
     "output_type": "stream",
     "text": [
      "[[ 26322.   24844.8  24771.6 ...   -757.2  -2197.8   3702.4]\n",
      " [ 24844.8  25913.6  24942.4 ...    190.6   -395.4   4566. ]\n",
      " [ 24771.6  24942.4  25832.4 ...   -331.2    332.4   6442.8]\n",
      " ...\n",
      " [  -757.2    190.6   -331.2 ... 143575.2  90017.8  74673.8]\n",
      " [ -2197.8   -395.4    332.4 ...  90017.8  96311.6  82691. ]\n",
      " [  3702.4   4566.    6442.8 ...  74673.8  82691.   95567.6]]\n"
     ]
    }
   ],
   "source": [
    "#within class matrix\n",
    "#class_ss --> class samples\n",
    "#class_m --> class mean\n",
    "\n",
    "S = numpy.zeros(shape=(train_data.shape[1], train_data.shape[1]))\n",
    "\n",
    "for i in range(classes.size):\n",
    "    class_ss = df.loc[df['class'] == i + 1].values[:, :-1]\n",
    "    class_m = mean_mat[i].reshape(1, train_data.shape[1])\n",
    "    centered_data = numpy.subtract(class_ss, class_m)\n",
    "    s = numpy.matmul(centered_data.T, centered_data)\n",
    "    S = S + s\n",
    "\n",
    "print(S)"
   ]
  },
  {
   "cell_type": "code",
   "execution_count": 8,
   "id": "828c878e",
   "metadata": {},
   "outputs": [
    {
     "name": "stdout",
     "output_type": "stream",
     "text": [
      "[[ 6.44521012e+09 -1.91552011e+10 -6.66554519e+09 ...  3.62676315e+09\n",
      "   4.03286156e+09 -9.69355912e+09]\n",
      " [ 1.19487261e+10  1.97400512e+10  9.32816022e+09 ... -1.10771591e+09\n",
      "  -1.80629774e+10  7.67029305e+09]\n",
      " [-9.04521970e+08 -1.27049881e+10 -3.85650516e+09 ...  1.33825280e+09\n",
      "   1.34168425e+09 -4.67911968e+08]\n",
      " ...\n",
      " [ 3.02447312e+08  2.13741873e+09  1.68951003e+09 ... -7.36345905e+08\n",
      "  -1.68087018e+09  1.30560938e+09]\n",
      " [ 5.74509320e+08  1.43490122e+08  3.39792749e+08 ...  2.29707472e+08\n",
      "  -2.60068401e+08  4.34157531e+07]\n",
      " [-5.78154172e+08 -5.37654456e+09 -3.08638711e+09 ...  2.00941910e+09\n",
      "   3.12026603e+09 -3.77880932e+09]]\n"
     ]
    }
   ],
   "source": [
    "S_inv = numpy.linalg.inv(S)\n",
    "print(S_inv)"
   ]
  },
  {
   "cell_type": "code",
   "execution_count": 9,
   "id": "2064e9cb",
   "metadata": {},
   "outputs": [],
   "source": [
    "eigen_values, eigen_vectors = numpy.linalg.eigh(numpy.matmul(S_inv, B))"
   ]
  },
  {
   "cell_type": "code",
   "execution_count": 10,
   "id": "80d8566b",
   "metadata": {},
   "outputs": [
    {
     "data": {
      "text/plain": [
       "array([[ 0.00274824, -0.00318418,  0.00343668, ..., -0.00392303,\n",
       "         0.00316831, -0.00260275],\n",
       "       [ 0.00348104, -0.00252907,  0.00303004, ..., -0.00351025,\n",
       "         0.00252503, -0.0033421 ],\n",
       "       [ 0.00256418, -0.0031347 ,  0.00378994, ..., -0.00424561,\n",
       "         0.00309765, -0.00240324],\n",
       "       ...,\n",
       "       [-0.00149346, -0.00116227,  0.00853946, ...,  0.00870456,\n",
       "        -0.00104119, -0.00156505],\n",
       "       [ 0.00043254, -0.00278461, -0.01021784, ..., -0.01039581,\n",
       "        -0.00284783,  0.00040148],\n",
       "       [ 0.00793071,  0.01706245,  0.02417486, ...,  0.02448843,\n",
       "         0.01703265,  0.00817426]])"
      ]
     },
     "execution_count": 10,
     "metadata": {},
     "output_type": "execute_result"
    }
   ],
   "source": [
    "\n",
    "\n",
    "#sort the eigenvalues and eigenvectors in descending order\n",
    "sorted_index = numpy.argsort(eigen_values)[::-1]\n",
    "sorted_eigenvalue = eigen_values[sorted_index]\n",
    "sorted_eigenvectors = eigen_vectors[:, sorted_index]\n",
    "\n",
    "# sorted_eigenvectors = numpy.real_if_close(sorted_eigenvectors)\n",
    "\n",
    "sorted_eigenvectors"
   ]
  },
  {
   "cell_type": "code",
   "execution_count": 11,
   "id": "abcb6fe6",
   "metadata": {},
   "outputs": [
    {
     "data": {
      "text/plain": [
       "(10304, 39)"
      ]
     },
     "execution_count": 11,
     "metadata": {},
     "output_type": "execute_result"
    }
   ],
   "source": [
    "U = sorted_eigenvectors[:, 0:39]\n",
    "U.shape"
   ]
  },
  {
   "cell_type": "code",
   "execution_count": 12,
   "id": "f2f0010e",
   "metadata": {},
   "outputs": [
    {
     "name": "stdout",
     "output_type": "stream",
     "text": [
      "(200, 39)\n",
      "(200, 39)\n"
     ]
    }
   ],
   "source": [
    "X_train = numpy.matmul(train_data, U)\n",
    "X_test = numpy.matmul(test_data, U)\n",
    "\n",
    "print(X_train.shape)\n",
    "print(X_test.shape)"
   ]
  },
  {
   "cell_type": "code",
   "execution_count": 13,
   "id": "74cf0821",
   "metadata": {
    "pycharm": {
     "name": "#%%\n"
    }
   },
   "outputs": [
    {
     "name": "stdout",
     "output_type": "stream",
     "text": [
      "Accuracy: [0.95, 0.855, 0.785, 0.775]\n"
     ]
    }
   ],
   "source": [
    "from sklearn.neighbors import KNeighborsClassifier\n",
    "from sklearn.metrics import accuracy_score\n",
    "\n",
    "k_vals=[1,3,5,7]\n",
    "acc=[]\n",
    "for i in range(len(k_vals)):\n",
    "    knn = KNeighborsClassifier(n_neighbors=k_vals[i])\n",
    "    knn.fit(X_train, y_train)\n",
    "    y_pred = knn.predict(X_test)\n",
    "    acc.append(accuracy_score(y_test, y_pred))\n",
    "\n",
    "print(\"Accuracy:\", acc)"
   ]
  },
  {
   "cell_type": "code",
   "execution_count": 14,
   "id": "99cd39c7",
   "metadata": {},
   "outputs": [
    {
     "data": {
      "image/png": "[encoded data removed]",
      "text/plain": [
       "<Figure size 432x288 with 1 Axes>"
      ]
     },
     "metadata": {
      "needs_background": "light"
     },
     "output_type": "display_data"
    }
   ],
   "source": [
    "import matplotlib.pyplot as plt\n",
    "plt.plot(k_vals,acc, linestyle = 'dashed')\n",
    "plt.show()"
   ]
  },
  {
   "cell_type": "code",
   "execution_count": 15,
   "id": "938fc265",
   "metadata": {},
   "outputs": [],
   "source": [
    "non_faces = numpy.ndarray(shape=(374, 10304), dtype=numpy.dtype('u1'))  # 8-bit unsigned int\n",
    "i = 0\n",
    "for dirname, _, filenames in os.walk('C:\\\\Users\\\\smart\\\\Desktop\\\\non_faces'):\n",
    "    for filename in filenames:\n",
    "        image = Image.open(os.path.join(dirname, filename))\n",
    "        image = image.resize((92,112))\n",
    "        numpy_image = numpy.asarray(image).flatten()\n",
    "        non_faces[i] = numpy_image.copy()\n",
    "        i += 0\n",
    "        "
   ]
  },
  {
   "cell_type": "code",
   "execution_count": 16,
   "id": "ea9268cd",
   "metadata": {},
   "outputs": [],
   "source": [
    "df['class']=1\n",
    "df1=pd.DataFrame(non_faces[:200])\n",
    "df1['class']=0\n",
    "df = df.append(df1, ignore_index=True)"
   ]
  },
  {
   "cell_type": "code",
   "execution_count": 17,
   "id": "de761b54",
   "metadata": {},
   "outputs": [],
   "source": [
    "# Odd rows for training\n",
    "train_data = df.values[::2, :-1]\n",
    "y_train = df['class'].values[::2].ravel()\n",
    "\n",
    "# Even rows for testing\n",
    "test_data = df.values[1::2, :-1]\n",
    "y_test = df['class'].values[1::2].ravel()\n"
   ]
  },
  {
   "cell_type": "code",
   "execution_count": 18,
   "id": "8b5685fd",
   "metadata": {},
   "outputs": [],
   "source": [
    "new_df = pd.DataFrame(train_data)\n",
    "new_df['class'] = y_train"
   ]
  },
  {
   "cell_type": "code",
   "execution_count": 19,
   "id": "2bef0cc1",
   "metadata": {},
   "outputs": [],
   "source": [
    "new_data_matrix=new_df.values[:,:-1]\n",
    "new_label_vector=new_df['class'].values\n",
    "new_label_vector=np.array([new_label_vector]).T"
   ]
  },
  {
   "cell_type": "code",
   "execution_count": 20,
   "id": "ea794d30",
   "metadata": {},
   "outputs": [],
   "source": [
    "classes = numpy.sort(new_df['class'].unique())\n",
    "mean_mat = new_df.groupby('class').mean(0).values\n",
    "samples_c = new_df.groupby('class').size().values"
   ]
  },
  {
   "cell_type": "code",
   "execution_count": 21,
   "id": "1fe5626a",
   "metadata": {},
   "outputs": [],
   "source": [
    "B= (mean_mat[0].reshape(10304,1)-mean_mat[1].reshape(10304,1) )*(mean_mat[0]-mean_mat[1] )"
   ]
  },
  {
   "cell_type": "code",
   "execution_count": 22,
   "id": "78a821e5",
   "metadata": {},
   "outputs": [],
   "source": [
    "S = numpy.zeros((10304, 10304))\n",
    "for i in range(classes.size):\n",
    "    class_ss = df.loc[df['class'] == i + 1].values[:, :-1]\n",
    "    class_m = mean_mat[i]\n",
    "    centered_data = numpy.subtract(class_ss, class_m)\n",
    "    s = numpy.matmul(centered_data.T, centered_data)\n",
    "    S = S + s"
   ]
  },
  {
   "cell_type": "code",
   "execution_count": 23,
   "id": "55751ec4",
   "metadata": {},
   "outputs": [
    {
     "name": "stdout",
     "output_type": "stream",
     "text": [
      "[[-4.77066153e+08 -2.58040812e+08  1.06667653e+08 ...  3.06887260e+07\n",
      "   3.76198108e+08 -5.57687840e+08]\n",
      " [ 1.06519994e+09  5.24337001e+08 -3.90936464e+08 ... -1.26116295e+08\n",
      "  -7.36878359e+08  1.18353811e+09]\n",
      " [-6.91012591e+08 -1.83569378e+08  2.06698739e+08 ...  1.23918025e+08\n",
      "   4.18760482e+08 -7.04120774e+08]\n",
      " ...\n",
      " [-9.07734496e+07 -3.72846185e+07  4.06951185e+07 ... -9.96450143e+04\n",
      "   8.00991113e+07 -9.99332292e+07]\n",
      " [-7.33588338e+07 -2.45938434e+07  3.53169197e+07 ...  3.76174219e+06\n",
      "   5.37966404e+07 -7.74450370e+07]\n",
      " [-1.59488468e+08 -6.85704954e+07  7.67646315e+07 ...  3.53694861e+07\n",
      "   9.66467171e+07 -1.86346188e+08]]\n"
     ]
    }
   ],
   "source": [
    "S_inv = numpy.linalg.inv(S)\n",
    "print(S_inv)"
   ]
  },
  {
   "cell_type": "code",
   "execution_count": 24,
   "id": "653c02f0",
   "metadata": {},
   "outputs": [],
   "source": [
    "eigen_values, eigen_vectors = numpy.linalg.eigh(numpy.matmul(S_inv, B))"
   ]
  },
  {
   "cell_type": "code",
   "execution_count": 25,
   "id": "e5817fec",
   "metadata": {},
   "outputs": [
    {
     "data": {
      "text/plain": [
       "array([[ 0.01135866, -0.01838676,  0.02548621, ..., -0.0248522 ,\n",
       "         0.0185537 , -0.01133647],\n",
       "       [ 0.01137527, -0.01849753,  0.02573473, ..., -0.02449302,\n",
       "         0.01836401, -0.01126614],\n",
       "       [ 0.0114679 , -0.01882473,  0.02642553, ..., -0.02380319,\n",
       "         0.01801017, -0.01116232],\n",
       "       ...,\n",
       "       [ 0.00614315,  0.00669811,  0.00573438, ...,  0.0057981 ,\n",
       "         0.0066776 ,  0.006142  ],\n",
       "       [ 0.00505621,  0.00551647,  0.00472347, ...,  0.00477253,\n",
       "         0.0054957 ,  0.00505512],\n",
       "       [ 0.01193972,  0.01301967,  0.01114456, ...,  0.01127645,\n",
       "         0.01298794,  0.01193948]])"
      ]
     },
     "execution_count": 25,
     "metadata": {},
     "output_type": "execute_result"
    }
   ],
   "source": [
    "#sort the eigenvalues and eigenvectors in descending order\n",
    "sorted_index = numpy.argsort(eigen_values)[::-1]\n",
    "sorted_eigenvalue = eigen_values[sorted_index]\n",
    "sorted_eigenvectors = eigen_vectors[:, sorted_index]\n",
    "# sorted_eigenvectors = numpy.real_if_close(sorted_eigenvectors)\n",
    "sorted_eigenvectors"
   ]
  },
  {
   "cell_type": "code",
   "execution_count": 26,
   "id": "e17f5b3b",
   "metadata": {},
   "outputs": [
    {
     "data": {
      "text/plain": [
       "(10304, 1)"
      ]
     },
     "execution_count": 26,
     "metadata": {},
     "output_type": "execute_result"
    }
   ],
   "source": [
    "U = sorted_eigenvectors[:, 0:1]\n",
    "U.shape"
   ]
  },
  {
   "cell_type": "code",
   "execution_count": 27,
   "id": "d63479cb",
   "metadata": {},
   "outputs": [
    {
     "name": "stdout",
     "output_type": "stream",
     "text": [
      "(200, 1)\n",
      "(200, 1)\n"
     ]
    }
   ],
   "source": [
    "X_train = numpy.matmul(train_data, U)\n",
    "X_test = numpy.matmul(test_data, U)\n",
    "\n",
    "print(X_train.shape)\n",
    "print(X_test.shape)"
   ]
  },
  {
   "cell_type": "code",
   "execution_count": 34,
   "id": "c4a0e709",
   "metadata": {},
   "outputs": [
    {
     "name": "stdout",
     "output_type": "stream",
     "text": [
      "Accuracy: [1.0, 1.0, 1.0, 1.0, 1.0, 1.0, 1.0, 1.0, 0.5]\n"
     ]
    }
   ],
   "source": [
    "from sklearn.neighbors import KNeighborsClassifier\n",
    "from sklearn.metrics import accuracy_score\n",
    "\n",
    "k_vals=[1,3,5,7]\n",
    "acc=[]\n",
    "for i in range(len(k_vals)):\n",
    "    knn = KNeighborsClassifier(n_neighbors=k_vals[i])\n",
    "    knn.fit(X_train, y_train)\n",
    "    y_pred = knn.predict(X_test)\n",
    "    acc.append(accuracy_score(y_test, y_pred))\n",
    "\n",
    "print(\"Accuracy:\", acc)"
   ]
  },
  {
   "cell_type": "code",
   "execution_count": null,
   "id": "43e25e24",
   "metadata": {},
   "outputs": [],
   "source": []
  }
 ],
 "metadata": {
  "kernelspec": {
   "display_name": "Python 3",
   "language": "python",
   "name": "python3"
  },
  "language_info": {
   "codemirror_mode": {
    "name": "ipython",
    "version": 3
   },
   "file_extension": ".py",
   "mimetype": "text/x-python",
   "name": "python",
   "nbconvert_exporter": "python",
   "pygments_lexer": "ipython3",
   "version": "3.8.8"
  }
 },
 "nbformat": 4,
 "nbformat_minor": 5
}
